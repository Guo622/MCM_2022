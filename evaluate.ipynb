{
 "cells": [
  {
   "cell_type": "code",
   "execution_count": null,
   "metadata": {},
   "outputs": [],
   "source": [
    "import pandas as pd\n",
    "import numpy as np"
   ]
  },
  {
   "cell_type": "code",
   "execution_count": null,
   "metadata": {},
   "outputs": [],
   "source": [
    "memory=pd.read_csv('memory_sort.csv',header=None).drop_duplicates(keep=False).reset_index(drop=True)"
   ]
  },
  {
   "cell_type": "code",
   "execution_count": null,
   "metadata": {},
   "outputs": [],
   "source": [
    "trend=memory.iloc[:,:9]\n",
    "action=memory.iloc[:,9]\n",
    "reward=memory.iloc[:,10]"
   ]
  },
  {
   "cell_type": "code",
   "execution_count": null,
   "metadata": {},
   "outputs": [],
   "source": [
    "import matplotlib.pyplot as plt"
   ]
  },
  {
   "cell_type": "code",
   "execution_count": null,
   "metadata": {},
   "outputs": [],
   "source": [
    "t0=100\n",
    "ppp=[]\n",
    "for i in range(578):\n",
    "    t=trend.iloc[i]\n",
    "    x=t0\n",
    "    pp=[t0]\n",
    "    for j in range(9):\n",
    "        x=x*t[j]+x\n",
    "        pp.append(x)\n",
    "    ppp.append(pp)\n"
   ]
  },
  {
   "cell_type": "code",
   "execution_count": null,
   "metadata": {},
   "outputs": [],
   "source": [
    "x1=[0,1,2,3,4,5,6]\n",
    "x2=[6,7,8,9]\n",
    "for i in range(578):\n",
    "    plt.scatter(6,ppp[i][6],color='black',s=100)\n",
    "    plt.plot(x1,ppp[i][:7])\n",
    "    plt.plot(x2,ppp[i][6:],color='r')\n",
    "    axis=plt.gca()\n",
    "    axis.axis('off')    \n",
    "    plt.savefig(f'figs/tmpp/trend{i}_{action.iloc[i]}_{reward.iloc[i]}.jpg')\n",
    "    plt.clf()"
   ]
  }
 ],
 "metadata": {
  "kernelspec": {
   "display_name": "Python 3.9.4 64-bit",
   "language": "python",
   "name": "python3"
  },
  "language_info": {
   "codemirror_mode": {
    "name": "ipython",
    "version": 3
   },
   "file_extension": ".py",
   "mimetype": "text/x-python",
   "name": "python",
   "nbconvert_exporter": "python",
   "pygments_lexer": "ipython3",
   "version": "3.9.4"
  },
  "orig_nbformat": 4,
  "vscode": {
   "interpreter": {
    "hash": "4b7ec9e2351a59c3a6e758d5e72b7d07448d7ef0ff3433869473c70a89863864"
   }
  }
 },
 "nbformat": 4,
 "nbformat_minor": 2
}
